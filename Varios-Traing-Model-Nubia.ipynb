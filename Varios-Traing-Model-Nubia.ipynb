{
 "cells": [
  {
   "cell_type": "code",
   "execution_count": 69,
   "metadata": {
    "id": "atomic-discovery"
   },
   "outputs": [],
   "source": [
    "# Importando as Bibliotecas:\n",
    "import pandas  as pd\n",
    "import numpy   as np\n",
    "import seaborn as sns\n",
    "import matplotlib.pyplot as plt\n",
    "\n",
    "# sns.set() é usado aqui para definir o \"tema\" estético dos gráficos.\n",
    "sns.set()\n",
    "\n",
    "from sklearn.neighbors       import KNeighborsRegressor\n",
    "from sklearn.model_selection import train_test_split\n",
    "from sklearn.metrics         import mean_absolute_percentage_error, r2_score\n",
    "from sklearn.linear_model    import LinearRegression\n",
    "from sklearn.preprocessing   import StandardScaler, MinMaxScaler\n",
    "from sklearn.tree            import DecisionTreeRegressor, plot_tree"
   ]
  },
  {
   "cell_type": "markdown",
   "metadata": {},
   "source": [
    "# Usando Modelo de Regressao Linear :"
   ]
  },
  {
   "cell_type": "code",
   "execution_count": 24,
   "metadata": {
    "id": "incredible-china"
   },
   "outputs": [],
   "source": [
    "# Leitura do Arquivo:\n",
    "\n",
    "dataset = pd.read_csv(\"model_input.csv\")"
   ]
  },
  {
   "cell_type": "markdown",
   "metadata": {},
   "source": [
    "# Vamos chamar de features as variáveis que queremos usar\n",
    "## Vamos chamar de y o que queremos prever:\n",
    "\n",
    "##  X ==> contém todo DataFrame exceto o campo 'price_limpo'\n",
    "##  y ==> contém somente a coluna \"price_limpo\"\n"
   ]
  },
  {
   "cell_type": "code",
   "execution_count": 25,
   "metadata": {
    "id": "sublime-socket"
   },
   "outputs": [],
   "source": [
    "\n",
    "X = dataset[[\"area_limpo\", \"bathrooms_limpo\", \"rooms_limpo\", \"condo_limpo\", \"garages_limpo\"]]\n",
    "y = dataset[\"price_limpo\"]"
   ]
  },
  {
   "cell_type": "code",
   "execution_count": 26,
   "metadata": {
    "id": "personalized-device"
   },
   "outputs": [],
   "source": [
    "# Train test split, vamos embaralhar os dados guardar 20% dos dados para teste\n",
    "#\n",
    "\n",
    "X_train, X_test, y_train, y_test = train_test_split(X, y, test_size=.20, random_state=12345, shuffle=True)"
   ]
  },
  {
   "cell_type": "code",
   "execution_count": 27,
   "metadata": {
    "id": "respective-commerce",
    "outputId": "c2be1a56-acd8-4e64-ac4c-791d1a092c88"
   },
   "outputs": [
    {
     "data": {
      "text/plain": [
       "(12137, 5)"
      ]
     },
     "execution_count": 27,
     "metadata": {},
     "output_type": "execute_result"
    }
   ],
   "source": [
    "X.shape"
   ]
  },
  {
   "cell_type": "code",
   "execution_count": 28,
   "metadata": {
    "id": "neither-poland",
    "outputId": "550c6beb-0870-4272-a391-5ad541f79bf5"
   },
   "outputs": [
    {
     "data": {
      "text/plain": [
       "(9709, 5)"
      ]
     },
     "execution_count": 28,
     "metadata": {},
     "output_type": "execute_result"
    }
   ],
   "source": [
    "X_train.shape"
   ]
  },
  {
   "cell_type": "code",
   "execution_count": 29,
   "metadata": {
    "id": "appreciated-relative",
    "outputId": "d06ed320-ddf9-4a1f-8937-212cb172d965"
   },
   "outputs": [
    {
     "data": {
      "text/plain": [
       "(2428, 5)"
      ]
     },
     "execution_count": 29,
     "metadata": {},
     "output_type": "execute_result"
    }
   ],
   "source": [
    "X_test.shape"
   ]
  },
  {
   "cell_type": "code",
   "execution_count": 8,
   "metadata": {
    "id": "neural-anaheim",
    "outputId": "c4c21c12-62ff-4b0b-a798-c754d136b315"
   },
   "outputs": [
    {
     "data": {
      "text/html": [
       "<div>\n",
       "<style scoped>\n",
       "    .dataframe tbody tr th:only-of-type {\n",
       "        vertical-align: middle;\n",
       "    }\n",
       "\n",
       "    .dataframe tbody tr th {\n",
       "        vertical-align: top;\n",
       "    }\n",
       "\n",
       "    .dataframe thead th {\n",
       "        text-align: right;\n",
       "    }\n",
       "</style>\n",
       "<table border=\"1\" class=\"dataframe\">\n",
       "  <thead>\n",
       "    <tr style=\"text-align: right;\">\n",
       "      <th></th>\n",
       "      <th>area_limpo</th>\n",
       "      <th>bathrooms_limpo</th>\n",
       "      <th>rooms_limpo</th>\n",
       "      <th>condo_limpo</th>\n",
       "      <th>garages_limpo</th>\n",
       "    </tr>\n",
       "  </thead>\n",
       "  <tbody>\n",
       "    <tr>\n",
       "      <th>0</th>\n",
       "      <td>64</td>\n",
       "      <td>2.0</td>\n",
       "      <td>2.0</td>\n",
       "      <td>778.0</td>\n",
       "      <td>1.0</td>\n",
       "    </tr>\n",
       "    <tr>\n",
       "      <th>1</th>\n",
       "      <td>83</td>\n",
       "      <td>3.0</td>\n",
       "      <td>2.0</td>\n",
       "      <td>600.0</td>\n",
       "      <td>2.0</td>\n",
       "    </tr>\n",
       "    <tr>\n",
       "      <th>2</th>\n",
       "      <td>75</td>\n",
       "      <td>2.0</td>\n",
       "      <td>3.0</td>\n",
       "      <td>717.0</td>\n",
       "      <td>1.0</td>\n",
       "    </tr>\n",
       "    <tr>\n",
       "      <th>3</th>\n",
       "      <td>47</td>\n",
       "      <td>2.0</td>\n",
       "      <td>1.0</td>\n",
       "      <td>463.0</td>\n",
       "      <td>1.0</td>\n",
       "    </tr>\n",
       "    <tr>\n",
       "      <th>4</th>\n",
       "      <td>67</td>\n",
       "      <td>2.0</td>\n",
       "      <td>2.0</td>\n",
       "      <td>778.0</td>\n",
       "      <td>1.0</td>\n",
       "    </tr>\n",
       "    <tr>\n",
       "      <th>5</th>\n",
       "      <td>131</td>\n",
       "      <td>5.0</td>\n",
       "      <td>3.0</td>\n",
       "      <td>950.0</td>\n",
       "      <td>2.0</td>\n",
       "    </tr>\n",
       "    <tr>\n",
       "      <th>6</th>\n",
       "      <td>49</td>\n",
       "      <td>2.0</td>\n",
       "      <td>1.0</td>\n",
       "      <td>648.0</td>\n",
       "      <td>1.0</td>\n",
       "    </tr>\n",
       "    <tr>\n",
       "      <th>7</th>\n",
       "      <td>56</td>\n",
       "      <td>2.0</td>\n",
       "      <td>1.0</td>\n",
       "      <td>502.0</td>\n",
       "      <td>0.0</td>\n",
       "    </tr>\n",
       "    <tr>\n",
       "      <th>8</th>\n",
       "      <td>110</td>\n",
       "      <td>2.0</td>\n",
       "      <td>3.0</td>\n",
       "      <td>700.0</td>\n",
       "      <td>2.0</td>\n",
       "    </tr>\n",
       "    <tr>\n",
       "      <th>9</th>\n",
       "      <td>157</td>\n",
       "      <td>5.0</td>\n",
       "      <td>3.0</td>\n",
       "      <td>1550.0</td>\n",
       "      <td>2.0</td>\n",
       "    </tr>\n",
       "  </tbody>\n",
       "</table>\n",
       "</div>"
      ],
      "text/plain": [
       "   area_limpo  bathrooms_limpo  rooms_limpo  condo_limpo  garages_limpo\n",
       "0          64              2.0          2.0        778.0            1.0\n",
       "1          83              3.0          2.0        600.0            2.0\n",
       "2          75              2.0          3.0        717.0            1.0\n",
       "3          47              2.0          1.0        463.0            1.0\n",
       "4          67              2.0          2.0        778.0            1.0\n",
       "5         131              5.0          3.0        950.0            2.0\n",
       "6          49              2.0          1.0        648.0            1.0\n",
       "7          56              2.0          1.0        502.0            0.0\n",
       "8         110              2.0          3.0        700.0            2.0\n",
       "9         157              5.0          3.0       1550.0            2.0"
      ]
     },
     "execution_count": 8,
     "metadata": {},
     "output_type": "execute_result"
    }
   ],
   "source": [
    "X[:10]"
   ]
  },
  {
   "cell_type": "code",
   "execution_count": 30,
   "metadata": {
    "id": "artificial-motivation",
    "outputId": "516804e4-55a9-4b7c-cafb-b24b91e28110"
   },
   "outputs": [
    {
     "data": {
      "text/html": [
       "<div>\n",
       "<style scoped>\n",
       "    .dataframe tbody tr th:only-of-type {\n",
       "        vertical-align: middle;\n",
       "    }\n",
       "\n",
       "    .dataframe tbody tr th {\n",
       "        vertical-align: top;\n",
       "    }\n",
       "\n",
       "    .dataframe thead th {\n",
       "        text-align: right;\n",
       "    }\n",
       "</style>\n",
       "<table border=\"1\" class=\"dataframe\">\n",
       "  <thead>\n",
       "    <tr style=\"text-align: right;\">\n",
       "      <th></th>\n",
       "      <th>area_limpo</th>\n",
       "      <th>bathrooms_limpo</th>\n",
       "      <th>rooms_limpo</th>\n",
       "      <th>condo_limpo</th>\n",
       "      <th>garages_limpo</th>\n",
       "    </tr>\n",
       "  </thead>\n",
       "  <tbody>\n",
       "    <tr>\n",
       "      <th>11278</th>\n",
       "      <td>44</td>\n",
       "      <td>1.0</td>\n",
       "      <td>2.0</td>\n",
       "      <td>220.0</td>\n",
       "      <td>0.0</td>\n",
       "    </tr>\n",
       "    <tr>\n",
       "      <th>8520</th>\n",
       "      <td>72</td>\n",
       "      <td>2.0</td>\n",
       "      <td>2.0</td>\n",
       "      <td>450.0</td>\n",
       "      <td>1.0</td>\n",
       "    </tr>\n",
       "    <tr>\n",
       "      <th>2045</th>\n",
       "      <td>41</td>\n",
       "      <td>1.0</td>\n",
       "      <td>1.0</td>\n",
       "      <td>350.0</td>\n",
       "      <td>0.0</td>\n",
       "    </tr>\n",
       "    <tr>\n",
       "      <th>10087</th>\n",
       "      <td>64</td>\n",
       "      <td>2.0</td>\n",
       "      <td>2.0</td>\n",
       "      <td>580.0</td>\n",
       "      <td>1.0</td>\n",
       "    </tr>\n",
       "    <tr>\n",
       "      <th>10525</th>\n",
       "      <td>52</td>\n",
       "      <td>1.0</td>\n",
       "      <td>2.0</td>\n",
       "      <td>380.0</td>\n",
       "      <td>1.0</td>\n",
       "    </tr>\n",
       "    <tr>\n",
       "      <th>1895</th>\n",
       "      <td>77</td>\n",
       "      <td>2.0</td>\n",
       "      <td>1.0</td>\n",
       "      <td>590.0</td>\n",
       "      <td>0.0</td>\n",
       "    </tr>\n",
       "    <tr>\n",
       "      <th>6714</th>\n",
       "      <td>61</td>\n",
       "      <td>2.0</td>\n",
       "      <td>2.0</td>\n",
       "      <td>600.0</td>\n",
       "      <td>1.0</td>\n",
       "    </tr>\n",
       "    <tr>\n",
       "      <th>2610</th>\n",
       "      <td>57</td>\n",
       "      <td>1.0</td>\n",
       "      <td>2.0</td>\n",
       "      <td>450.0</td>\n",
       "      <td>1.0</td>\n",
       "    </tr>\n",
       "    <tr>\n",
       "      <th>4283</th>\n",
       "      <td>253</td>\n",
       "      <td>5.0</td>\n",
       "      <td>4.0</td>\n",
       "      <td>1860.0</td>\n",
       "      <td>2.0</td>\n",
       "    </tr>\n",
       "    <tr>\n",
       "      <th>6095</th>\n",
       "      <td>102</td>\n",
       "      <td>3.0</td>\n",
       "      <td>3.0</td>\n",
       "      <td>816.0</td>\n",
       "      <td>2.0</td>\n",
       "    </tr>\n",
       "  </tbody>\n",
       "</table>\n",
       "</div>"
      ],
      "text/plain": [
       "       area_limpo  bathrooms_limpo  rooms_limpo  condo_limpo  garages_limpo\n",
       "11278          44              1.0          2.0        220.0            0.0\n",
       "8520           72              2.0          2.0        450.0            1.0\n",
       "2045           41              1.0          1.0        350.0            0.0\n",
       "10087          64              2.0          2.0        580.0            1.0\n",
       "10525          52              1.0          2.0        380.0            1.0\n",
       "1895           77              2.0          1.0        590.0            0.0\n",
       "6714           61              2.0          2.0        600.0            1.0\n",
       "2610           57              1.0          2.0        450.0            1.0\n",
       "4283          253              5.0          4.0       1860.0            2.0\n",
       "6095          102              3.0          3.0        816.0            2.0"
      ]
     },
     "execution_count": 30,
     "metadata": {},
     "output_type": "execute_result"
    }
   ],
   "source": [
    "X_train[:10]"
   ]
  },
  {
   "cell_type": "code",
   "execution_count": 31,
   "metadata": {
    "id": "ultimate-compiler",
    "outputId": "f3caeb4f-3459-4e4d-b654-b78377c8e62e"
   },
   "outputs": [
    {
     "data": {
      "text/plain": [
       "11278    168095.0\n",
       "8520     485000.0\n",
       "2045     350000.0\n",
       "10087    360000.0\n",
       "10525    265000.0\n",
       "           ...   \n",
       "11689    380000.0\n",
       "3492     389990.0\n",
       "2177     290000.0\n",
       "11749    260000.0\n",
       "4578     890000.0\n",
       "Name: price_limpo, Length: 9709, dtype: float64"
      ]
     },
     "execution_count": 31,
     "metadata": {},
     "output_type": "execute_result"
    }
   ],
   "source": [
    "y_train"
   ]
  },
  {
   "cell_type": "code",
   "execution_count": null,
   "metadata": {
    "id": "abstract-relative"
   },
   "outputs": [],
   "source": [
    "# Vamos fazer uma regressao linear simples:\n",
    "\n",
    "# w1*area + w2*banheiro + w3*quartos + w4*condo + w5*garagem = preco_previsto\n",
    "# onde cada w é o peso que vamos dar para cada uma das variáveis\n",
    "# Como nos vamos prever um preço e sabemos o preço real, podemos calcular o erro\n",
    "# O objetivo do nosso aprendizado é encontrar os pesos que minimizam esse erro!"
   ]
  },
  {
   "cell_type": "code",
   "execution_count": 32,
   "metadata": {
    "id": "retired-aberdeen"
   },
   "outputs": [],
   "source": [
    "# Modelo de Regressão Simples:\n",
    "\n",
    "model = LinearRegression(fit_intercept=False)"
   ]
  },
  {
   "cell_type": "code",
   "execution_count": 34,
   "metadata": {
    "id": "alert-review",
    "outputId": "f93ce0d6-9060-47c0-92b2-744287ae148e"
   },
   "outputs": [
    {
     "data": {
      "text/plain": [
       "LinearRegression(fit_intercept=False)"
      ]
     },
     "execution_count": 34,
     "metadata": {},
     "output_type": "execute_result"
    }
   ],
   "source": [
    "# Aplicar aos nossos dados de treino (80% dos dados):\n",
    "\n",
    "model.fit(X_train, y_train)"
   ]
  },
  {
   "cell_type": "code",
   "execution_count": 35,
   "metadata": {
    "id": "vocational-evaluation"
   },
   "outputs": [],
   "source": [
    "# Vamos prever nos nossos dados de treino e de teste e comparar o error médio\n",
    "\n",
    "y_pred_train = model.predict(X_train)\n",
    "y_pred_test  = model.predict(X_test)"
   ]
  },
  {
   "cell_type": "code",
   "execution_count": null,
   "metadata": {
    "id": "armed-setup",
    "outputId": "72da9654-1772-451e-8774-aa7944744d61"
   },
   "outputs": [
    {
     "data": {
      "text/plain": [
       "0.26984243749508163"
      ]
     },
     "execution_count": 15,
     "metadata": {
      "tags": []
     },
     "output_type": "execute_result"
    }
   ],
   "source": [
    "# Erro médio percentual do treino\n",
    "# Vamos calcular o erro percentual como sendo : (y real - y previsto)/y real\n",
    "# Como não queremos que o positivo anule o negativo, vamos pegar o valor absoluto\n",
    "# Vamos pegar a média deles\n",
    "np.mean(np.abs(y_train - y_pred_train)/y_train)"
   ]
  },
  {
   "cell_type": "code",
   "execution_count": 36,
   "metadata": {
    "id": "interpreted-lighting",
    "outputId": "cf5533d6-8a55-4586-b5c1-9853c01961c3"
   },
   "outputs": [
    {
     "data": {
      "text/plain": [
       "0.2730208848721279"
      ]
     },
     "execution_count": 36,
     "metadata": {},
     "output_type": "execute_result"
    }
   ],
   "source": [
    "# O mesmo mas agora para teste e comparamos para ver se são comparáveis:\n",
    "\n",
    "np.mean(np.abs(y_test - y_pred_test)/y_test)"
   ]
  },
  {
   "cell_type": "code",
   "execution_count": 17,
   "metadata": {
    "id": "brazilian-biodiversity",
    "outputId": "32086341-88ed-407d-9e8a-b366fb9155c5"
   },
   "outputs": [
    {
     "data": {
      "text/plain": [
       "array([   6742.96057555,   63460.06119565, -163901.34581316,\n",
       "           546.11546263,   45021.9690481 ])"
      ]
     },
     "execution_count": 17,
     "metadata": {},
     "output_type": "execute_result"
    }
   ],
   "source": [
    "# Coeficientes do modelo (\"peso\" calculado para cada variável):\n",
    "\n",
    "model.coef_"
   ]
  },
  {
   "cell_type": "markdown",
   "metadata": {
    "id": "roman-auction"
   },
   "source": [
    "# Modelo K-NearestNeighbors = KNN"
   ]
  },
  {
   "cell_type": "code",
   "execution_count": 2,
   "metadata": {
    "id": "loose-train"
   },
   "outputs": [],
   "source": [
    "# Vamos usar o modelo K-NearestNeighbors ou knn\n",
    "# Este é o modelo mais simples: quando queremos saber o preço de um apartamento,\n",
    "# ele busca os k apartamentos mais semelhantes (mais próximos segundo as variáveis \n",
    "# utilizadas) e calcula a média de preço deles."
   ]
  },
  {
   "cell_type": "code",
   "execution_count": 40,
   "metadata": {
    "id": "recent-mortality"
   },
   "outputs": [],
   "source": [
    "knn = KNeighborsRegressor(n_neighbors=5)"
   ]
  },
  {
   "cell_type": "code",
   "execution_count": 41,
   "metadata": {
    "colab": {
     "base_uri": "https://localhost:8080/",
     "height": 165
    },
    "id": "skilled-phenomenon",
    "outputId": "d0a53fb8-c9b4-423f-bc45-0d3061f55da9"
   },
   "outputs": [
    {
     "data": {
      "text/plain": [
       "KNeighborsRegressor()"
      ]
     },
     "execution_count": 41,
     "metadata": {},
     "output_type": "execute_result"
    }
   ],
   "source": [
    "knn.fit(X_train, y_train)"
   ]
  },
  {
   "cell_type": "code",
   "execution_count": 42,
   "metadata": {
    "id": "important-estate"
   },
   "outputs": [],
   "source": [
    "y_pred = knn.predict(X_test)"
   ]
  },
  {
   "cell_type": "code",
   "execution_count": 43,
   "metadata": {
    "id": "indie-cliff"
   },
   "outputs": [
    {
     "data": {
      "text/plain": [
       "0.22961407660052136"
      ]
     },
     "execution_count": 43,
     "metadata": {},
     "output_type": "execute_result"
    }
   ],
   "source": [
    "mean_absolute_percentage_error(y_test, y_pred)"
   ]
  },
  {
   "cell_type": "code",
   "execution_count": 44,
   "metadata": {
    "id": "seventh-evolution"
   },
   "outputs": [
    {
     "name": "stdout",
     "output_type": "stream",
     "text": [
      "k=1, mape=0.24793799578522147\n",
      "k=3, mape=0.23363091847513526\n",
      "k=5, mape=0.22961407660052136\n",
      "k=7, mape=0.23138005731562153\n",
      "k=9, mape=0.2343561708200454\n"
     ]
    }
   ],
   "source": [
    "# Testando com k entre 1 e 9\n",
    "# Usamos numeros impares para evitar empates, normalmente k = 5 (ideal)\n",
    "\n",
    "for k in [1, 3, 5, 7, 9]:\n",
    "    knn = KNeighborsRegressor(n_neighbors=k)\n",
    "    knn.fit(X_train, y_train)\n",
    "    y_pred = knn.predict(X_test)\n",
    "    error = mean_absolute_percentage_error(y_test, y_pred)\n",
    "    print(f\"k={k}, mape={error}\")"
   ]
  },
  {
   "cell_type": "code",
   "execution_count": null,
   "metadata": {
    "id": "automotive-miracle"
   },
   "outputs": [],
   "source": [
    "# Como é um modelo baseado em distância e temos variáveis em escalas bastante diferentes\n",
    "# (exemplo quartos de 1 a 5 e condomínio de 100 a 50000), é imporante normalizar estes dados\n",
    "# As duas maneiras mais comuns é usar o minmaxscaler para passar os dados para valores entre\n",
    "# 0 e 1 ou o standardscaler, que transformar os dados em uma distribuicao normal com\n",
    "# média 0 e desvio padrao 1."
   ]
  },
  {
   "cell_type": "code",
   "execution_count": 45,
   "metadata": {
    "id": "continuous-chinese"
   },
   "outputs": [],
   "source": [
    "scaler = MinMaxScaler()"
   ]
  },
  {
   "cell_type": "code",
   "execution_count": 46,
   "metadata": {
    "id": "hired-material"
   },
   "outputs": [],
   "source": [
    "scaler.fit(X)\n",
    "X_scaled = scaler.transform(X)\n",
    "X_scaled = pd.DataFrame(X_scaled, columns=X.columns)"
   ]
  },
  {
   "cell_type": "code",
   "execution_count": 47,
   "metadata": {
    "id": "varied-senate"
   },
   "outputs": [],
   "source": [
    "# Train test split, vamos embaralhar os dados guardar 20% dos dados para teste:\n",
    "\n",
    "X_train, X_test, y_train, y_test = train_test_split(X_scaled, y, test_size=.20, random_state=12345, shuffle=True)"
   ]
  },
  {
   "cell_type": "code",
   "execution_count": 48,
   "metadata": {
    "id": "afraid-baking"
   },
   "outputs": [
    {
     "name": "stdout",
     "output_type": "stream",
     "text": [
      "k=1, mape=0.22729410705010228\n",
      "k=3, mape=0.2191853111246389\n",
      "k=5, mape=0.2157983887246736\n",
      "k=7, mape=0.21775702102646935\n",
      "k=9, mape=0.21817585257074687\n"
     ]
    }
   ],
   "source": [
    "# Testando com k entre 1 e 9\n",
    "# Usamos numeros impares para evitar empates\n",
    "# Repare como os resultados são:\n",
    "\n",
    "for k in [1, 3, 5, 7, 9]:\n",
    "    knn = KNeighborsRegressor(n_neighbors=k)\n",
    "    knn.fit(X_train, y_train)\n",
    "    y_pred = knn.predict(X_test)\n",
    "    error = mean_absolute_percentage_error(y_test, y_pred)\n",
    "    print(f\"k={k}, mape={error}\")"
   ]
  },
  {
   "cell_type": "code",
   "execution_count": 49,
   "metadata": {
    "id": "fixed-firmware"
   },
   "outputs": [
    {
     "data": {
      "text/plain": [
       "KNeighborsRegressor(n_neighbors=3)"
      ]
     },
     "execution_count": 49,
     "metadata": {},
     "output_type": "execute_result"
    }
   ],
   "source": [
    "# Criando um novo apartamento para testar\n",
    "# e prevendo o valor deles:\n",
    "\n",
    "knn = KNeighborsRegressor(n_neighbors=3)\n",
    "knn.fit(X_train, y_train)"
   ]
  },
  {
   "cell_type": "code",
   "execution_count": 50,
   "metadata": {
    "id": "criminal-latin"
   },
   "outputs": [],
   "source": [
    "novo_apto = pd.DataFrame([[60, 4, 2, 500, 1]], columns=X_train.columns)"
   ]
  },
  {
   "cell_type": "code",
   "execution_count": 51,
   "metadata": {
    "id": "durable-opera"
   },
   "outputs": [],
   "source": [
    "# Precisamos aplicar o scaler aos dados deste novo apartamento:\n",
    "novo_apto_scaled = scaler.transform(novo_apto)"
   ]
  },
  {
   "cell_type": "code",
   "execution_count": 52,
   "metadata": {
    "id": "creative-trash"
   },
   "outputs": [
    {
     "data": {
      "text/plain": [
       "array([894333.33333333])"
      ]
     },
     "execution_count": 52,
     "metadata": {},
     "output_type": "execute_result"
    }
   ],
   "source": [
    "# prevendo o valor do apartamento\n",
    "knn.predict(novo_apto_scaled)"
   ]
  },
  {
   "cell_type": "code",
   "execution_count": 53,
   "metadata": {
    "id": "global-circulation"
   },
   "outputs": [],
   "source": [
    "# Analisando residuos\n",
    "# Resíduos são os erros do modelo.\n",
    "# Um bom modelo tem erros centrado no zero e normalmente distribuidos\n",
    "# Isso significa que o modelo \"erra igualmente\" para cima e para baixo:\n",
    "\n",
    "residuals = y_test - y_pred"
   ]
  },
  {
   "cell_type": "code",
   "execution_count": 54,
   "metadata": {
    "id": "supreme-water"
   },
   "outputs": [
    {
     "data": {
      "text/plain": [
       "<seaborn.axisgrid.FacetGrid at 0x7fcd67670100>"
      ]
     },
     "execution_count": 54,
     "metadata": {},
     "output_type": "execute_result"
    },
    {
     "data": {
      "image/png": "[encoded data removed]",
      "text/plain": [
       "<Figure size 360x360 with 1 Axes>"
      ]
     },
     "metadata": {},
     "output_type": "display_data"
    }
   ],
   "source": [
    "sns.displot(residuals)"
   ]
  },
  {
   "cell_type": "code",
   "execution_count": 56,
   "metadata": {
    "id": "later-semester"
   },
   "outputs": [
    {
     "data": {
      "text/plain": [
       "<matplotlib.lines.Line2D at 0x7fcd67cebc40>"
      ]
     },
     "execution_count": 56,
     "metadata": {},
     "output_type": "execute_result"
    },
    {
     "data": {
      "image/png": "[encoded data removed]",
      "text/plain": [
       "<Figure size 432x288 with 1 Axes>"
      ]
     },
     "metadata": {},
     "output_type": "display_data"
    }
   ],
   "source": [
    "\n",
    "residuals_df = pd.DataFrame(residuals).reset_index(drop=True)\n",
    "residuals_df[\"price_limpo\"].plot()\n",
    "plt.axhline(y=0, c=\"r\")"
   ]
  },
  {
   "cell_type": "markdown",
   "metadata": {
    "id": "beneficial-remainder"
   },
   "source": [
    "## Adicionando bairro"
   ]
  },
  {
   "cell_type": "code",
   "execution_count": 58,
   "metadata": {
    "colab": {
     "base_uri": "https://localhost:8080/",
     "height": 217
    },
    "id": "unlikely-poison",
    "outputId": "173e5848-ce8a-433f-b5df-bacec53270fd"
   },
   "outputs": [],
   "source": [
    "# Leitura do Arquivo .csv:\n",
    "\n",
    "\n",
    "dataset = pd.read_csv(\"model_input_with_crawler.csv\")\n",
    "\n",
    "X = dataset[[\"area_limpo\", \"bathrooms_limpo\", \"rooms_limpo\", \"condo_limpo\", \"garages_limpo\", \"crawler\"]]\n",
    "y = dataset[\"price_limpo\"]"
   ]
  },
  {
   "cell_type": "code",
   "execution_count": 59,
   "metadata": {
    "colab": {
     "base_uri": "https://localhost:8080/",
     "height": 200
    },
    "id": "intense-audio",
    "outputId": "8b7ff215-8ce6-47d2-c63b-1863b5a86ae2"
   },
   "outputs": [],
   "source": [
    "# Vamos usar a funcao get dummies para executar o \"one-hot-encoding\"\n",
    "# Isso tranforma a coluna bairro em diversas colunas binárias (1 e 0), uma\n",
    "# para cada bairro\n",
    "X = pd.concat((X,pd.get_dummies(X[\"crawler\"])), axis=1).drop(columns=[\"crawler\"])"
   ]
  },
  {
   "cell_type": "code",
   "execution_count": 60,
   "metadata": {
    "id": "settled-indian"
   },
   "outputs": [
    {
     "data": {
      "text/html": [
       "<div>\n",
       "<style scoped>\n",
       "    .dataframe tbody tr th:only-of-type {\n",
       "        vertical-align: middle;\n",
       "    }\n",
       "\n",
       "    .dataframe tbody tr th {\n",
       "        vertical-align: top;\n",
       "    }\n",
       "\n",
       "    .dataframe thead th {\n",
       "        text-align: right;\n",
       "    }\n",
       "</style>\n",
       "<table border=\"1\" class=\"dataframe\">\n",
       "  <thead>\n",
       "    <tr style=\"text-align: right;\">\n",
       "      <th></th>\n",
       "      <th>area_limpo</th>\n",
       "      <th>bathrooms_limpo</th>\n",
       "      <th>rooms_limpo</th>\n",
       "      <th>condo_limpo</th>\n",
       "      <th>garages_limpo</th>\n",
       "      <th>bras</th>\n",
       "      <th>brooklin</th>\n",
       "      <th>butanta</th>\n",
       "      <th>campo_limpo</th>\n",
       "      <th>freguesia_do_o</th>\n",
       "      <th>...</th>\n",
       "      <th>moema</th>\n",
       "      <th>mooca</th>\n",
       "      <th>morumbi</th>\n",
       "      <th>pinheiros</th>\n",
       "      <th>republica</th>\n",
       "      <th>santana</th>\n",
       "      <th>saude</th>\n",
       "      <th>tucuruvi</th>\n",
       "      <th>vila_mariana</th>\n",
       "      <th>vila_matilde</th>\n",
       "    </tr>\n",
       "  </thead>\n",
       "  <tbody>\n",
       "    <tr>\n",
       "      <th>0</th>\n",
       "      <td>64</td>\n",
       "      <td>2.0</td>\n",
       "      <td>2.0</td>\n",
       "      <td>778.0</td>\n",
       "      <td>1.0</td>\n",
       "      <td>0</td>\n",
       "      <td>1</td>\n",
       "      <td>0</td>\n",
       "      <td>0</td>\n",
       "      <td>0</td>\n",
       "      <td>...</td>\n",
       "      <td>0</td>\n",
       "      <td>0</td>\n",
       "      <td>0</td>\n",
       "      <td>0</td>\n",
       "      <td>0</td>\n",
       "      <td>0</td>\n",
       "      <td>0</td>\n",
       "      <td>0</td>\n",
       "      <td>0</td>\n",
       "      <td>0</td>\n",
       "    </tr>\n",
       "    <tr>\n",
       "      <th>1</th>\n",
       "      <td>83</td>\n",
       "      <td>3.0</td>\n",
       "      <td>2.0</td>\n",
       "      <td>600.0</td>\n",
       "      <td>2.0</td>\n",
       "      <td>0</td>\n",
       "      <td>1</td>\n",
       "      <td>0</td>\n",
       "      <td>0</td>\n",
       "      <td>0</td>\n",
       "      <td>...</td>\n",
       "      <td>0</td>\n",
       "      <td>0</td>\n",
       "      <td>0</td>\n",
       "      <td>0</td>\n",
       "      <td>0</td>\n",
       "      <td>0</td>\n",
       "      <td>0</td>\n",
       "      <td>0</td>\n",
       "      <td>0</td>\n",
       "      <td>0</td>\n",
       "    </tr>\n",
       "    <tr>\n",
       "      <th>2</th>\n",
       "      <td>75</td>\n",
       "      <td>2.0</td>\n",
       "      <td>3.0</td>\n",
       "      <td>717.0</td>\n",
       "      <td>1.0</td>\n",
       "      <td>0</td>\n",
       "      <td>1</td>\n",
       "      <td>0</td>\n",
       "      <td>0</td>\n",
       "      <td>0</td>\n",
       "      <td>...</td>\n",
       "      <td>0</td>\n",
       "      <td>0</td>\n",
       "      <td>0</td>\n",
       "      <td>0</td>\n",
       "      <td>0</td>\n",
       "      <td>0</td>\n",
       "      <td>0</td>\n",
       "      <td>0</td>\n",
       "      <td>0</td>\n",
       "      <td>0</td>\n",
       "    </tr>\n",
       "    <tr>\n",
       "      <th>3</th>\n",
       "      <td>47</td>\n",
       "      <td>2.0</td>\n",
       "      <td>1.0</td>\n",
       "      <td>463.0</td>\n",
       "      <td>1.0</td>\n",
       "      <td>0</td>\n",
       "      <td>1</td>\n",
       "      <td>0</td>\n",
       "      <td>0</td>\n",
       "      <td>0</td>\n",
       "      <td>...</td>\n",
       "      <td>0</td>\n",
       "      <td>0</td>\n",
       "      <td>0</td>\n",
       "      <td>0</td>\n",
       "      <td>0</td>\n",
       "      <td>0</td>\n",
       "      <td>0</td>\n",
       "      <td>0</td>\n",
       "      <td>0</td>\n",
       "      <td>0</td>\n",
       "    </tr>\n",
       "    <tr>\n",
       "      <th>4</th>\n",
       "      <td>67</td>\n",
       "      <td>2.0</td>\n",
       "      <td>2.0</td>\n",
       "      <td>778.0</td>\n",
       "      <td>1.0</td>\n",
       "      <td>0</td>\n",
       "      <td>1</td>\n",
       "      <td>0</td>\n",
       "      <td>0</td>\n",
       "      <td>0</td>\n",
       "      <td>...</td>\n",
       "      <td>0</td>\n",
       "      <td>0</td>\n",
       "      <td>0</td>\n",
       "      <td>0</td>\n",
       "      <td>0</td>\n",
       "      <td>0</td>\n",
       "      <td>0</td>\n",
       "      <td>0</td>\n",
       "      <td>0</td>\n",
       "      <td>0</td>\n",
       "    </tr>\n",
       "    <tr>\n",
       "      <th>...</th>\n",
       "      <td>...</td>\n",
       "      <td>...</td>\n",
       "      <td>...</td>\n",
       "      <td>...</td>\n",
       "      <td>...</td>\n",
       "      <td>...</td>\n",
       "      <td>...</td>\n",
       "      <td>...</td>\n",
       "      <td>...</td>\n",
       "      <td>...</td>\n",
       "      <td>...</td>\n",
       "      <td>...</td>\n",
       "      <td>...</td>\n",
       "      <td>...</td>\n",
       "      <td>...</td>\n",
       "      <td>...</td>\n",
       "      <td>...</td>\n",
       "      <td>...</td>\n",
       "      <td>...</td>\n",
       "      <td>...</td>\n",
       "      <td>...</td>\n",
       "    </tr>\n",
       "    <tr>\n",
       "      <th>12132</th>\n",
       "      <td>50</td>\n",
       "      <td>1.0</td>\n",
       "      <td>2.0</td>\n",
       "      <td>350.0</td>\n",
       "      <td>1.0</td>\n",
       "      <td>0</td>\n",
       "      <td>0</td>\n",
       "      <td>0</td>\n",
       "      <td>0</td>\n",
       "      <td>0</td>\n",
       "      <td>...</td>\n",
       "      <td>0</td>\n",
       "      <td>0</td>\n",
       "      <td>0</td>\n",
       "      <td>0</td>\n",
       "      <td>0</td>\n",
       "      <td>0</td>\n",
       "      <td>0</td>\n",
       "      <td>1</td>\n",
       "      <td>0</td>\n",
       "      <td>0</td>\n",
       "    </tr>\n",
       "    <tr>\n",
       "      <th>12133</th>\n",
       "      <td>78</td>\n",
       "      <td>2.0</td>\n",
       "      <td>3.0</td>\n",
       "      <td>650.0</td>\n",
       "      <td>2.0</td>\n",
       "      <td>0</td>\n",
       "      <td>0</td>\n",
       "      <td>0</td>\n",
       "      <td>0</td>\n",
       "      <td>0</td>\n",
       "      <td>...</td>\n",
       "      <td>0</td>\n",
       "      <td>0</td>\n",
       "      <td>0</td>\n",
       "      <td>0</td>\n",
       "      <td>0</td>\n",
       "      <td>0</td>\n",
       "      <td>0</td>\n",
       "      <td>1</td>\n",
       "      <td>0</td>\n",
       "      <td>0</td>\n",
       "    </tr>\n",
       "    <tr>\n",
       "      <th>12134</th>\n",
       "      <td>82</td>\n",
       "      <td>2.0</td>\n",
       "      <td>3.0</td>\n",
       "      <td>650.0</td>\n",
       "      <td>1.0</td>\n",
       "      <td>0</td>\n",
       "      <td>0</td>\n",
       "      <td>0</td>\n",
       "      <td>0</td>\n",
       "      <td>0</td>\n",
       "      <td>...</td>\n",
       "      <td>0</td>\n",
       "      <td>0</td>\n",
       "      <td>0</td>\n",
       "      <td>0</td>\n",
       "      <td>0</td>\n",
       "      <td>0</td>\n",
       "      <td>0</td>\n",
       "      <td>1</td>\n",
       "      <td>0</td>\n",
       "      <td>0</td>\n",
       "    </tr>\n",
       "    <tr>\n",
       "      <th>12135</th>\n",
       "      <td>82</td>\n",
       "      <td>2.0</td>\n",
       "      <td>3.0</td>\n",
       "      <td>650.0</td>\n",
       "      <td>1.0</td>\n",
       "      <td>0</td>\n",
       "      <td>0</td>\n",
       "      <td>0</td>\n",
       "      <td>0</td>\n",
       "      <td>0</td>\n",
       "      <td>...</td>\n",
       "      <td>0</td>\n",
       "      <td>0</td>\n",
       "      <td>0</td>\n",
       "      <td>0</td>\n",
       "      <td>0</td>\n",
       "      <td>0</td>\n",
       "      <td>0</td>\n",
       "      <td>1</td>\n",
       "      <td>0</td>\n",
       "      <td>0</td>\n",
       "    </tr>\n",
       "    <tr>\n",
       "      <th>12136</th>\n",
       "      <td>96</td>\n",
       "      <td>1.0</td>\n",
       "      <td>2.0</td>\n",
       "      <td>670.0</td>\n",
       "      <td>1.0</td>\n",
       "      <td>0</td>\n",
       "      <td>0</td>\n",
       "      <td>0</td>\n",
       "      <td>0</td>\n",
       "      <td>0</td>\n",
       "      <td>...</td>\n",
       "      <td>0</td>\n",
       "      <td>0</td>\n",
       "      <td>0</td>\n",
       "      <td>0</td>\n",
       "      <td>0</td>\n",
       "      <td>0</td>\n",
       "      <td>0</td>\n",
       "      <td>1</td>\n",
       "      <td>0</td>\n",
       "      <td>0</td>\n",
       "    </tr>\n",
       "  </tbody>\n",
       "</table>\n",
       "<p>12137 rows × 23 columns</p>\n",
       "</div>"
      ],
      "text/plain": [
       "       area_limpo  bathrooms_limpo  rooms_limpo  condo_limpo  garages_limpo  \\\n",
       "0              64              2.0          2.0        778.0            1.0   \n",
       "1              83              3.0          2.0        600.0            2.0   \n",
       "2              75              2.0          3.0        717.0            1.0   \n",
       "3              47              2.0          1.0        463.0            1.0   \n",
       "4              67              2.0          2.0        778.0            1.0   \n",
       "...           ...              ...          ...          ...            ...   \n",
       "12132          50              1.0          2.0        350.0            1.0   \n",
       "12133          78              2.0          3.0        650.0            2.0   \n",
       "12134          82              2.0          3.0        650.0            1.0   \n",
       "12135          82              2.0          3.0        650.0            1.0   \n",
       "12136          96              1.0          2.0        670.0            1.0   \n",
       "\n",
       "       bras  brooklin  butanta  campo_limpo  freguesia_do_o  ...  moema  \\\n",
       "0         0         1        0            0               0  ...      0   \n",
       "1         0         1        0            0               0  ...      0   \n",
       "2         0         1        0            0               0  ...      0   \n",
       "3         0         1        0            0               0  ...      0   \n",
       "4         0         1        0            0               0  ...      0   \n",
       "...     ...       ...      ...          ...             ...  ...    ...   \n",
       "12132     0         0        0            0               0  ...      0   \n",
       "12133     0         0        0            0               0  ...      0   \n",
       "12134     0         0        0            0               0  ...      0   \n",
       "12135     0         0        0            0               0  ...      0   \n",
       "12136     0         0        0            0               0  ...      0   \n",
       "\n",
       "       mooca  morumbi  pinheiros  republica  santana  saude  tucuruvi  \\\n",
       "0          0        0          0          0        0      0         0   \n",
       "1          0        0          0          0        0      0         0   \n",
       "2          0        0          0          0        0      0         0   \n",
       "3          0        0          0          0        0      0         0   \n",
       "4          0        0          0          0        0      0         0   \n",
       "...      ...      ...        ...        ...      ...    ...       ...   \n",
       "12132      0        0          0          0        0      0         1   \n",
       "12133      0        0          0          0        0      0         1   \n",
       "12134      0        0          0          0        0      0         1   \n",
       "12135      0        0          0          0        0      0         1   \n",
       "12136      0        0          0          0        0      0         1   \n",
       "\n",
       "       vila_mariana  vila_matilde  \n",
       "0                 0             0  \n",
       "1                 0             0  \n",
       "2                 0             0  \n",
       "3                 0             0  \n",
       "4                 0             0  \n",
       "...             ...           ...  \n",
       "12132             0             0  \n",
       "12133             0             0  \n",
       "12134             0             0  \n",
       "12135             0             0  \n",
       "12136             0             0  \n",
       "\n",
       "[12137 rows x 23 columns]"
      ]
     },
     "execution_count": 60,
     "metadata": {},
     "output_type": "execute_result"
    }
   ],
   "source": [
    "X"
   ]
  },
  {
   "cell_type": "code",
   "execution_count": null,
   "metadata": {
    "id": "interpreted-postage"
   },
   "outputs": [],
   "source": [
    "# Train test split, vamos embaralhar os dados guardar 20% dos dados para teste:\n",
    "\n",
    "X_train, X_test, y_train, y_test = train_test_split(X, y, test_size=.20, random_state=12345, shuffle=True)"
   ]
  },
  {
   "cell_type": "code",
   "execution_count": 61,
   "metadata": {
    "id": "athletic-moses"
   },
   "outputs": [
    {
     "data": {
      "text/plain": [
       "0.2526542514249925"
      ]
     },
     "execution_count": 61,
     "metadata": {},
     "output_type": "execute_result"
    }
   ],
   "source": [
    "# Resultados bem melhores com o bairro:\n",
    "\n",
    "lm = LinearRegression()\n",
    "lm.fit(X_train, y_train)\n",
    "\n",
    "y_pred = lm.predict(X_test)\n",
    "mean_absolute_percentage_error(y_test, y_pred)"
   ]
  },
  {
   "cell_type": "code",
   "execution_count": 62,
   "metadata": {
    "id": "superb-affairs"
   },
   "outputs": [
    {
     "data": {
      "text/plain": [
       "-3153.395267866112"
      ]
     },
     "execution_count": 62,
     "metadata": {},
     "output_type": "execute_result"
    },
    {
     "data": {
      "image/png": "[encoded data removed]",
      "text/plain": [
       "<Figure size 360x360 with 1 Axes>"
      ]
     },
     "metadata": {},
     "output_type": "display_data"
    }
   ],
   "source": [
    "\n",
    "residuals = y_test - y_pred\n",
    "sns.displot(residuals)\n",
    "np.mean(residuals)\n"
   ]
  },
  {
   "cell_type": "code",
   "execution_count": 63,
   "metadata": {
    "id": "administrative-modern"
   },
   "outputs": [],
   "source": [
    "# Vamos novamente aplicar o scaler para usar o knn novamente:\n",
    "\n",
    "scaler = MinMaxScaler()\n",
    "scaler.fit(X)\n",
    "X_scaled = scaler.transform(X)\n",
    "X_scaled = pd.DataFrame(X_scaled, columns=X.columns)\n"
   ]
  },
  {
   "cell_type": "code",
   "execution_count": 64,
   "metadata": {
    "id": "asian-knight"
   },
   "outputs": [],
   "source": [
    "X_train, X_test, y_train, y_test = train_test_split(X_scaled, y, test_size=.20, random_state=12345, shuffle=True)"
   ]
  },
  {
   "cell_type": "code",
   "execution_count": 65,
   "metadata": {
    "id": "pointed-richardson"
   },
   "outputs": [
    {
     "name": "stdout",
     "output_type": "stream",
     "text": [
      "k=1, mape=0.1409448900207222\n",
      "k=3, mape=0.1354339966109072\n",
      "k=5, mape=0.136140417977782\n",
      "k=7, mape=0.1373137934181601\n",
      "k=9, mape=0.13966774799092962\n"
     ]
    }
   ],
   "source": [
    "# Repare que os resultados são consideravelmente melhores:\n",
    "\n",
    "for k in [1, 3, 5, 7, 9]:\n",
    "    knn = KNeighborsRegressor(n_neighbors=k)\n",
    "    knn.fit(X_train, y_train)\n",
    "    y_pred = knn.predict(X_test)\n",
    "    error = mean_absolute_percentage_error(y_test, y_pred)\n",
    "    print(f\"k={k}, mape={error}\")"
   ]
  },
  {
   "cell_type": "code",
   "execution_count": 66,
   "metadata": {
    "id": "municipal-offset"
   },
   "outputs": [],
   "source": [
    "\n",
    "knn = KNeighborsRegressor(n_neighbors=3)\n",
    "knn.fit(X_train, y_train)\n",
    "y_pred = knn.predict(X_test)\n",
    "error = mean_absolute_percentage_error(y_test, y_pred)\n",
    "residuals = y_test - y_pred\n"
   ]
  },
  {
   "cell_type": "code",
   "execution_count": 67,
   "metadata": {
    "id": "received-words"
   },
   "outputs": [
    {
     "data": {
      "text/plain": [
       "<seaborn.axisgrid.FacetGrid at 0x7fcd664967f0>"
      ]
     },
     "execution_count": 67,
     "metadata": {},
     "output_type": "execute_result"
    },
    {
     "data": {
      "image/png": "[encoded data removed]",
      "text/plain": [
       "<Figure size 360x360 with 1 Axes>"
      ]
     },
     "metadata": {},
     "output_type": "display_data"
    }
   ],
   "source": [
    "sns.displot(residuals)"
   ]
  },
  {
   "cell_type": "code",
   "execution_count": 68,
   "metadata": {
    "id": "generous-median"
   },
   "outputs": [
    {
     "data": {
      "text/plain": [
       "0.8829180508376197"
      ]
     },
     "execution_count": 68,
     "metadata": {},
     "output_type": "execute_result"
    }
   ],
   "source": [
    "r2_score(y_test, y_pred)"
   ]
  },
  {
   "cell_type": "markdown",
   "metadata": {
    "id": "asian-teacher"
   },
   "source": [
    "# Decision tree"
   ]
  },
  {
   "cell_type": "code",
   "execution_count": 70,
   "metadata": {
    "colab": {
     "base_uri": "https://localhost:8080/",
     "height": 217
    },
    "id": "prime-applicant",
    "outputId": "c58c6c48-0913-4dfa-8f8b-e589cf5da996"
   },
   "outputs": [],
   "source": [
    "# Carrega o dataset:\n",
    "\n",
    "dataset = pd.read_csv(\"model_input_with_crawler.csv\")\n",
    "X = dataset[[\"area_limpo\", \"bathrooms_limpo\", \"rooms_limpo\", \"condo_limpo\", \"garages_limpo\", \"crawler\"]]\n",
    "y = dataset[\"price_limpo\"]\n"
   ]
  },
  {
   "cell_type": "code",
   "execution_count": 71,
   "metadata": {
    "id": "enhanced-luxury"
   },
   "outputs": [],
   "source": [
    "# Vamos usar a funcao get dummies para executar o \"one-hot-encoding\"\n",
    "# Isso tranforma a coluna bairro em diversas colunas binárias (1 e 0), uma\n",
    "# para cada bairro:\n",
    "\n",
    "X = pd.concat((X,pd.get_dummies(X[\"crawler\"])), axis=1).drop(columns=[\"crawler\"])"
   ]
  },
  {
   "cell_type": "code",
   "execution_count": 72,
   "metadata": {
    "id": "technical-confidentiality"
   },
   "outputs": [],
   "source": [
    "# Train test split, vamos embaralhar os dados guardar 20% dos dados para teste:\n",
    "\n",
    "X_train, X_test, y_train, y_test = train_test_split(X, y, test_size=.20, random_state=12345, shuffle=True)"
   ]
  },
  {
   "cell_type": "code",
   "execution_count": 74,
   "metadata": {
    "id": "awful-creature"
   },
   "outputs": [],
   "source": [
    "dt = DecisionTreeRegressor(max_depth=3)"
   ]
  },
  {
   "cell_type": "code",
   "execution_count": 75,
   "metadata": {
    "id": "equipped-header"
   },
   "outputs": [
    {
     "data": {
      "text/plain": [
       "DecisionTreeRegressor(max_depth=3)"
      ]
     },
     "execution_count": 75,
     "metadata": {},
     "output_type": "execute_result"
    }
   ],
   "source": [
    "dt.fit(X_train[['area_limpo', 'bathrooms_limpo', 'rooms_limpo', 'condo_limpo','garages_limpo']], y_train)"
   ]
  },
  {
   "cell_type": "code",
   "execution_count": null,
   "metadata": {
    "id": "tested-behalf"
   },
   "outputs": [],
   "source": [
    "dt.get_depth()"
   ]
  },
  {
   "cell_type": "code",
   "execution_count": null,
   "metadata": {
    "id": "rolled-clothing"
   },
   "outputs": [],
   "source": [
    "y_pred = dt.predict(X_test[['area_limpo', 'bathrooms_limpo', 'rooms_limpo', 'condo_limpo','garages_limpo']])"
   ]
  },
  {
   "cell_type": "code",
   "execution_count": 76,
   "metadata": {
    "id": "entire-omaha"
   },
   "outputs": [],
   "source": [
    "error = mean_absolute_percentage_error(y_test, y_pred)\n",
    "residuals = y_test - y_pred\n"
   ]
  },
  {
   "cell_type": "code",
   "execution_count": 77,
   "metadata": {
    "id": "intelligent-assist"
   },
   "outputs": [
    {
     "name": "stdout",
     "output_type": "stream",
     "text": [
      "0.1354339966109072\n"
     ]
    }
   ],
   "source": [
    "print(error)"
   ]
  },
  {
   "cell_type": "code",
   "execution_count": 78,
   "metadata": {
    "id": "operating-moderator"
   },
   "outputs": [
    {
     "data": {
      "text/plain": [
       "[Text(558.0, 951.3000000000001, 'condo_limpo <= 932.5\\nmse = 237984163298.02\\nsamples = 9709\\nvalue = 669843.483'),\n",
       " Text(279.0, 679.5, 'condo_limpo <= 593.5\\nmse = 67153796421.867\\nsamples = 8411\\nvalue = 532665.28'),\n",
       " Text(139.5, 407.70000000000005, 'area_limpo <= 58.5\\nmse = 29186116925.969\\nsamples = 5023\\nvalue = 418706.85'),\n",
       " Text(69.75, 135.89999999999998, 'mse = 17800855357.229\\nsamples = 2669\\nvalue = 346624.498'),\n",
       " Text(209.25, 135.89999999999998, 'mse = 29524273619.706\\nsamples = 2354\\nvalue = 500434.887'),\n",
       " Text(418.5, 407.70000000000005, 'area_limpo <= 87.5\\nmse = 75645338780.274\\nsamples = 3388\\nvalue = 701618.408'),\n",
       " Text(348.75, 135.89999999999998, 'mse = 53808889625.348\\nsamples = 2628\\nvalue = 640183.333'),\n",
       " Text(488.25, 135.89999999999998, 'mse = 92973395393.424\\nsamples = 760\\nvalue = 914054.429'),\n",
       " Text(837.0, 679.5, 'area_limpo <= 151.5\\nmse = 432858604317.221\\nsamples = 1298\\nvalue = 1558754.009'),\n",
       " Text(697.5, 407.70000000000005, 'area_limpo <= 101.5\\nmse = 194788257566.619\\nsamples = 997\\nvalue = 1351375.001'),\n",
       " Text(627.75, 135.89999999999998, 'mse = 97459105057.147\\nsamples = 355\\nvalue = 1052918.434'),\n",
       " Text(767.25, 135.89999999999998, 'mse = 172115386919.628\\nsamples = 642\\nvalue = 1516409.396'),\n",
       " Text(976.5, 407.70000000000005, 'condo_limpo <= 1939.0\\nmse = 607137095153.865\\nsamples = 301\\nvalue = 2245653.914'),\n",
       " Text(906.75, 135.89999999999998, 'mse = 279420692039.368\\nsamples = 195\\nvalue = 1947853.492'),\n",
       " Text(1046.25, 135.89999999999998, 'mse = 746735407718.29\\nsamples = 106\\nvalue = 2793494.311')]"
      ]
     },
     "execution_count": 78,
     "metadata": {},
     "output_type": "execute_result"
    },
    {
     "data": {
      "image/png": "[encoded data removed]",
      "text/plain": [
       "<Figure size 1440x1440 with 1 Axes>"
      ]
     },
     "metadata": {},
     "output_type": "display_data"
    }
   ],
   "source": [
    "plt.figure(figsize=(20,20))\n",
    "plot_tree(dt, filled=True, feature_names=['area_limpo', 'bathrooms_limpo', 'rooms_limpo', 'condo_limpo','garages_limpo'])"
   ]
  },
  {
   "cell_type": "code",
   "execution_count": null,
   "metadata": {},
   "outputs": [],
   "source": []
  }
 ],
 "metadata": {
  "colab": {
   "name": "training_model.ipynb",
   "provenance": []
  },
  "kernelspec": {
   "display_name": "Python 3",
   "language": "python",
   "name": "python3"
  },
  "language_info": {
   "codemirror_mode": {
    "name": "ipython",
    "version": 3
   },
   "file_extension": ".py",
   "mimetype": "text/x-python",
   "name": "python",
   "nbconvert_exporter": "python",
   "pygments_lexer": "ipython3",
   "version": "3.8.5"
  }
 },
 "nbformat": 4,
 "nbformat_minor": 5
}
